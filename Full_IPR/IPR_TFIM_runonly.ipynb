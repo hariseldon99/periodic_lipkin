{
 "cells": [
  {
   "cell_type": "code",
   "execution_count": 219,
   "id": "b7610ea3",
   "metadata": {},
   "outputs": [
    {
     "name": "stdout",
     "output_type": "stream",
     "text": [
      "CPU times: user 1.3 ms, sys: 131 µs, total: 1.43 ms\n",
      "Wall time: 1.39 ms\n"
     ]
    }
   ],
   "source": [
    "%%time\n",
    "import numpy as np\n",
    "from qutip import tensor, sigmax, sigmay, sigmaz, qeye, mesolve \n",
    "from qutip.floquet import floquet_modes\n",
    "\n",
    "def drive(t, args):\n",
    "    h0 = args['h0']\n",
    "    h = args['h']\n",
    "    w = args['omega']\n",
    "    return h0 + h * np.cos(w * t)\n",
    "\n",
    "\n",
    "def get_sxt(k, nT, params, ntimes=1000, initstate=sigmaz().groundstate()[1]):\n",
    "    sx = sigmax()\n",
    "    sz = sigmaz()\n",
    "\n",
    "    # construct the hamiltonian\n",
    "    H0 = np.sin(k) * sx + np.cos(k) * sz\n",
    "    H1 = sz\n",
    "    \n",
    "    H = [H0,[H1,drive]]   \n",
    "    T = 2 * np.pi/params['omega']\n",
    "    times = np.linspace(0, nT * T, ntimes)\n",
    "    return mesolve(H, initstate, times, e_ops=[sz], args=params)\n",
    "\n",
    "def get_floquet_isingfermion(k, args, **kwargs):\n",
    "    \n",
    "    sx = sigmax()\n",
    "    sz = sigmaz()\n",
    "    \n",
    "    # construct the hamiltonian\n",
    "    H0 = np.sin(k) * sx + np.cos(k) * sz\n",
    "    H1 = sz\n",
    "    \n",
    "    H = [H0,[H1,drive]]    \n",
    "    T = 2 * np.pi/args['omega']\n",
    "\n",
    "    return floquet_modes(H, T, args, **kwargs)\n",
    "\n",
    "def get_uv(k, params):\n",
    "    f_states, f_energies = get_floquet_isingfermion(k, params, sort=True)\n",
    "    return f_states[-1].full().flatten()\n",
    "\n",
    "def get_rho(args):\n",
    "    kq,params = args\n",
    "    k,q = kq\n",
    "    uk, vk = get_uv(k, params)\n",
    "    uk_c, vk_c = np.conjugate(uk),np.conjugate(vk)\n",
    "    \n",
    "    uq, vq = get_uv(q, params)\n",
    "    uq_c, vq_c = np.conjugate(uq),np.conjugate(vq)\n",
    "    \n",
    "    rho_matelem = vk_c * uk * uq_c * vq\n",
    "    if k == 0 or q == 0:\n",
    "        rho_matelem = 0.0\n",
    "    elif k == q:\n",
    "        rho_matelem -= np.abs(uk * vq)**2 + np.abs(uq * vk)**2 + uk_c * vk * vq_c * uq\n",
    "    elif k == -q:\n",
    "        rho_matelem += np.abs(uk * vq)**2 + np.abs(uq * vk)**2 - uk_c * vk * vq_c * uq\n",
    "    return rho_matelem"
   ]
  },
  {
   "cell_type": "code",
   "execution_count": 223,
   "id": "d732970e",
   "metadata": {},
   "outputs": [
    {
     "name": "stdout",
     "output_type": "stream",
     "text": [
      "24.04825557695773 20.0\n",
      "CPU times: user 250 ms, sys: 309 ms, total: 559 ms\n",
      "Wall time: 8.18 s\n"
     ]
    }
   ],
   "source": [
    "%%time\n",
    "import itertools, h5py\n",
    "from qutip import parfor\n",
    "from scipy.special import j0, jn_zeros\n",
    "\n",
    "N=10000\n",
    "num_cpus=6\n",
    "\n",
    "h0 = 0.0\n",
    "omega = 20.0\n",
    "eta = jn_zeros(0,10)[0]\n",
    "h = eta * omega/2\n",
    "print(h,omega)\n",
    "\n",
    "fname=\"many_body_iprs_TFIM.hdf5\"\n",
    "\n",
    "fbz = np.linspace(-np.pi, np.pi, N)\n",
    "kq_pairs = [x for x in itertools.combinations(fbz, 2)]\n",
    "\n",
    "with h5py.File(fname,\"a\") as f:\n",
    "    params = {'h0':h0, 'h':h, 'omega':omega}\n",
    "    arglist = [(kq, params) for kq in kq_pairs]\n",
    "    rholist = parfor(get_rho, arglist, num_cpus=num_cpus)\n",
    "    rho = np.zeros((N,N), dtype=np.complex128)\n",
    "    for ri, kq in enumerate(kq_pairs):\n",
    "        k, q = kq\n",
    "        i, = np.where(fbz==k)\n",
    "        j, = np.where(fbz==q)\n",
    "        rho[i,j] = rholist[ri]\n",
    "    rho = rho + np.conjugate(rho.T)\n",
    "    n, phis = np.linalg.eig(rho)\n",
    "\n",
    "    iprs =  np.sum(np.abs(phis)**4, axis=0)\n",
    "    \n",
    "    ipr_dataset = f.create_dataset(\"iprs\", data=np.vstack([fbz,iprs]).T)\n",
    "    ipr_dataset.attrs['nspins'] = N\n",
    "    ipr_dataset.attrs['h0'] = h0\n",
    "    ipr_dataset.attrs['h'] = h\n",
    "    ipr_dataset.attrs['omega'] = omega\n",
    "    ipr_dataset.attrs['j0_val'] = j0(2*h/omega)"
   ]
  },
  {
   "cell_type": "code",
   "execution_count": null,
   "id": "a1dd8b7b",
   "metadata": {},
   "outputs": [],
   "source": []
  }
 ],
 "metadata": {
  "hide_input": false,
  "kernelspec": {
   "display_name": "Python [conda env:hpc] *",
   "language": "python",
   "name": "conda-env-hpc-py"
  },
  "language_info": {
   "codemirror_mode": {
    "name": "ipython",
    "version": 3
   },
   "file_extension": ".py",
   "mimetype": "text/x-python",
   "name": "python",
   "nbconvert_exporter": "python",
   "pygments_lexer": "ipython3",
   "version": "3.11.0"
  },
  "varInspector": {
   "cols": {
    "lenName": 16,
    "lenType": 16,
    "lenVar": 40
   },
   "kernels_config": {
    "python": {
     "delete_cmd_postfix": "",
     "delete_cmd_prefix": "del ",
     "library": "var_list.py",
     "varRefreshCmd": "print(var_dic_list())"
    },
    "r": {
     "delete_cmd_postfix": ") ",
     "delete_cmd_prefix": "rm(",
     "library": "var_list.r",
     "varRefreshCmd": "cat(var_dic_list()) "
    }
   },
   "types_to_exclude": [
    "module",
    "function",
    "builtin_function_or_method",
    "instance",
    "_Feature"
   ],
   "window_display": false
  }
 },
 "nbformat": 4,
 "nbformat_minor": 5
}
