{
 "cells": [
  {
   "cell_type": "code",
   "execution_count": 5,
   "id": "27337b0c",
   "metadata": {},
   "outputs": [],
   "source": [
    "import hdfdict\n",
    "import h5py\n",
    "import numpy as np\n",
    "\n",
    "fname = 'frz_multomega.h5'\n",
    "f = h5py.File(fname, 'r')\n",
    "fulldata = hdfdict.load(fname)\n",
    "#h0 = f.attrs['h0']\n",
    "#N = f.attrs['N'] \n",
    "#nperiods = f.attrs['nperiods']"
   ]
  },
  {
   "cell_type": "code",
   "execution_count": 7,
   "id": "48d78eb3",
   "metadata": {},
   "outputs": [
    {
     "data": {
      "text/plain": [
       "{}"
      ]
     },
     "execution_count": 7,
     "metadata": {},
     "output_type": "execute_result"
    }
   ],
   "source": [
    "fulldata"
   ]
  },
  {
   "cell_type": "code",
   "execution_count": 6,
   "id": "80e313e5",
   "metadata": {},
   "outputs": [],
   "source": [
    "f.close()"
   ]
  },
  {
   "cell_type": "code",
   "execution_count": 8,
   "id": "b62239b2",
   "metadata": {},
   "outputs": [
    {
     "name": "stdout",
     "output_type": "stream",
     "text": [
      "/home/admin/gitrepos/periodic_lipkin/Reduced_IPR\r\n"
     ]
    }
   ],
   "source": [
    "!pwd"
   ]
  },
  {
   "cell_type": "code",
   "execution_count": null,
   "id": "045cf418",
   "metadata": {},
   "outputs": [],
   "source": []
  }
 ],
 "metadata": {
  "kernelspec": {
   "display_name": "Python 3 (ipykernel)",
   "language": "python",
   "name": "python3"
  },
  "language_info": {
   "codemirror_mode": {
    "name": "ipython",
    "version": 3
   },
   "file_extension": ".py",
   "mimetype": "text/x-python",
   "name": "python",
   "nbconvert_exporter": "python",
   "pygments_lexer": "ipython3",
   "version": "3.11.0"
  }
 },
 "nbformat": 4,
 "nbformat_minor": 5
}
