{
 "cells": [
  {
   "cell_type": "code",
   "execution_count": 4,
   "id": "b6274654",
   "metadata": {
    "execution": {
     "iopub.execute_input": "2023-03-06T08:53:58.369574Z",
     "iopub.status.busy": "2023-03-06T08:53:58.369123Z",
     "iopub.status.idle": "2023-03-06T08:53:58.648800Z",
     "shell.execute_reply": "2023-03-06T08:53:58.648044Z",
     "shell.execute_reply.started": "2023-03-06T08:53:58.369527Z"
    },
    "tags": []
   },
   "outputs": [
    {
     "name": "stdout",
     "output_type": "stream",
     "text": [
      "CPU times: user 35 µs, sys: 0 ns, total: 35 µs\n",
      "Wall time: 41.7 µs\n"
     ]
    }
   ],
   "source": [
    "%%time\n",
    "\n",
    "#Modded from qutip to allow parallelism\n",
    "import numpy as np\n",
    "import scipy.linalg as la\n",
    "from numpy import angle, pi\n",
    "from qutip import Qobj, propagator\n",
    "\n",
    "def floquet_modes_mod(H, T, args=None, parallel=False, sort=False, U=None):\n",
    "    \"\"\"\n",
    "    Calculate the initial Floquet modes Phi_alpha(0) for a driven system with\n",
    "    period T.\n",
    "\n",
    "    Returns a list of :class:`qutip.qobj` instances representing the Floquet\n",
    "    modes and a list of corresponding quasienergies, sorted by increasing\n",
    "    quasienergy in the interval [-pi/T, pi/T]. The optional parameter `sort`\n",
    "    decides if the output is to be sorted in increasing quasienergies or not.\n",
    "\n",
    "    Parameters\n",
    "    ----------\n",
    "\n",
    "    H : :class:`qutip.qobj`\n",
    "        system Hamiltonian, time-dependent with period `T`\n",
    "\n",
    "    args : dictionary\n",
    "        dictionary with variables required to evaluate H\n",
    "\n",
    "    T : float\n",
    "        The period of the time-dependence of the hamiltonian. The default value\n",
    "        'None' indicates that the 'tlist' spans a single period of the driving.\n",
    "\n",
    "    U : :class:`qutip.qobj`\n",
    "        The propagator for the time-dependent Hamiltonian with period `T`.\n",
    "        If U is `None` (default), it will be calculated from the Hamiltonian\n",
    "        `H` using :func:`qutip.propagator.propagator`.\n",
    "\n",
    "    Returns\n",
    "    -------\n",
    "\n",
    "    output : list of kets, list of quasi energies\n",
    "\n",
    "        Two lists: the Floquet modes as kets and the quasi energies.\n",
    "\n",
    "    \"\"\"\n",
    "    if 'opts' in args:\n",
    "        options = args['opts']\n",
    "    else:\n",
    "        options = Options()\n",
    "        options.rhs_reuse = True\n",
    "        rhs_clear() \n",
    "    \n",
    "    if U is None:\n",
    "        # get the unitary propagator\n",
    "        U = propagator(H, T, [], args, parallel=parallel, progressbar=True, options=options)\n",
    "    \n",
    "    # find the eigenstates for the propagator\n",
    "    evals, evecs = la.eig(U.full())\n",
    "\n",
    "    eargs = angle(evals)\n",
    "\n",
    "    # make sure that the phase is in the interval [-pi, pi], so that\n",
    "    # the quasi energy is in the interval [-pi/T, pi/T] where T is the\n",
    "    # period of the driving.  eargs += (eargs <= -2*pi) * (2*pi) +\n",
    "    # (eargs > 0) * (-2*pi)\n",
    "    eargs += (eargs <= -pi) * (2 * pi) + (eargs > pi) * (-2 * pi)\n",
    "    e_quasi = -eargs / T\n",
    "\n",
    "    # sort by the quasi energy\n",
    "    if sort:\n",
    "        order = np.argsort(-e_quasi)\n",
    "    else:\n",
    "        order = list(range(len(evals)))\n",
    "\n",
    "    # prepare a list of kets for the floquet states\n",
    "    new_dims = [U.dims[0], [1] * len(U.dims[0])]\n",
    "    new_shape = [U.shape[0], 1]\n",
    "    kets_order = [Qobj(np.matrix(evecs[:, o]).T,\n",
    "                       dims=new_dims, shape=new_shape) for o in order]\n",
    "\n",
    "    return kets_order, e_quasi[order]"
   ]
  },
  {
   "cell_type": "code",
   "execution_count": 117,
   "id": "bd7d3a23",
   "metadata": {
    "scrolled": true
   },
   "outputs": [
    {
     "name": "stdout",
     "output_type": "stream",
     "text": [
      "Definitions complete!\n"
     ]
    }
   ],
   "source": [
    "import numpy as np\n",
    "import cupy as cp\n",
    "from qutip import Qobj, propagator\n",
    "\n",
    "from qutip import basis, jmat\n",
    "\n",
    "def drive(t, args):\n",
    "    w = args['omega']\n",
    "    h = args['h']\n",
    "    h0 = args['h0']\n",
    "    return h * np.sin(w*t) + h0\n",
    "\n",
    "def drive_gpu(t, args):\n",
    "    w = args['omega']\n",
    "    h = args['h']\n",
    "    h0 = args['h0']\n",
    "    return h * cp.sin(w*t) + h0\n",
    "\n",
    "def get_hamiltonians(N):\n",
    "    sx,sy,sz = jmat(N,\"x\"),jmat(N,\"y\"),jmat(N,\"z\")\n",
    "    kn =  2.0/(N-1)                                      # kacNorm\n",
    "    H0 = kn * sz **2 \n",
    "    H1 = 2 * sx\n",
    "    return H0,H1\n",
    "\n",
    "def propagator_evolve(args):\n",
    "    N = args['N']\n",
    "    T = 2 * np.pi/args['omega']\n",
    "    opts = args['opts']\n",
    "    H0, H1 = get_hamiltonians(N)\n",
    "    H = [H0,[H1,drive]]\n",
    "    U = propagator(H, T, [], args, parallel=True, progressbar=False, options=opts)\n",
    "    U_gpu = cp.array(U.full())\n",
    "    return U_gpu\n",
    "\n",
    "def floq_evolv(args):\n",
    "    N = args['N']\n",
    "    T = 2 * np.pi/args['omega']\n",
    "    opts = args['opts']\n",
    "    H0, H1 = get_hamiltonians(N)\n",
    "    H = [H0,[H1,drive]]\n",
    "    f_states, _ = floquet_modes_mod(H, T, args=args)\n",
    "    return f_states\n",
    "\n",
    "def observables(params, nperiods = 4000):\n",
    "    umat_gpu = propagator_evolve(params)\n",
    "    N = params['N']\n",
    "\n",
    "    H0, H1 = get_hamiltonians(N)\n",
    "    #t=0 Hamiltonian\n",
    "    #Ht0 = H0 + drive(0, params) * H1\n",
    "    #en, psi0 = Ht0.groundstate()\n",
    "\n",
    "    #Typical state is fully spin polarized\n",
    "    sx = jmat(N,\"x\")\n",
    "    en, psi0 = sx.groundstate()\n",
    "    sx_gpu = cp.array(sx.full())\n",
    "\n",
    "    psi0_gpu = cp.array(psi0)\n",
    "\n",
    "    H0_gpu, H1_gpu = cp.array(H0.full()),cp.array(H1.full()) \n",
    "\n",
    "    w = params['omega']\n",
    "    T = 2 * cp.pi/omega\n",
    "    hbar_data = cp.zeros(nperiods+1, dtype=cp.complex128)\n",
    "    hsigma_data = cp.zeros_like(hbar_data)\n",
    "    \n",
    "    \n",
    "    sxavg_data = cp.zeros_like(hbar_data)\n",
    "    sxvar_data = cp.zeros_like(hbar_data)\n",
    "    norm = cp.zeros_like(hbar_data)\n",
    "\n",
    "    hbar_data[0] = en/N\n",
    "    sxavg = cp.conjugate(psi0_gpu).T @ sx_gpu @ psi0_gpu\n",
    "    sxsq = cp.conjugate(psi0_gpu).T @ sx_gpu @ sx_gpu @ psi0_gpu\n",
    "    sxavg_data[0] = sxavg/N\n",
    "    sxvar_data[0] = (sxsq - (sxavg * sxavg))/(N*N)\n",
    "    \n",
    "    norm[0]= cp.linalg.norm(psi0_gpu)\n",
    "\n",
    "    un = cp.eye(2*N+1)\n",
    "\n",
    "    for n in cp.arange(1, nperiods+1):\n",
    "        un = un @ umat_gpu\n",
    "        psiT_gpu = un @ psi0_gpu\n",
    "        HT_gpu = H0_gpu + drive_gpu(n*T, params) * H1_gpu\n",
    "        hbar_gpu = cp.conjugate(psiT_gpu).T @ HT_gpu @ psiT_gpu\n",
    "        hsqbar_gpu = cp.conjugate(psiT_gpu).T @ HT_gpu @ HT_gpu @ psiT_gpu\n",
    "        hsigma_gpu = hsqbar_gpu - (hbar_gpu * hbar_gpu)\n",
    "        hbar_data[n] = hbar_gpu/N\n",
    "        hsigma_data[n] = hsigma_gpu/(N*N)\n",
    "        sxavg = cp.conjugate(psiT_gpu).T @ sx_gpu @ psiT_gpu\n",
    "        sxsq = cp.conjugate(psiT_gpu).T @ sx_gpu @ sx_gpu @ psiT_gpu\n",
    "        sxavg_data[n] = sxavg/N\n",
    "        sxvar_data[n] = (sxsq - (sxavg * sxavg))/(N*N)\n",
    "        norm[n] = cp.linalg.norm(psiT_gpu)\n",
    "    \n",
    "    obs = {\"eavg\":hbar_data.get(), \"evar\":hsigma_data.get(),\\\n",
    "           \"sxavg\":sxavg_data.get(), \"sxvar\":sxvar_data.get(),\"norm\":norm.get()}\n",
    "    \n",
    "    return obs\n",
    "\n",
    "def get_ipr(params):\n",
    "    f_states = floq_evolv(params)\n",
    "    sx = jmat(N,\"x\")\n",
    "    en, st = sx.eigenstates()\n",
    "    ipr = [np.sum([np.abs(state.overlap(sx_ev))**4 for sx_ev in st]) for state in f_states]\n",
    "    return ipr\n",
    "\n",
    "print(\"Definitions complete!\")"
   ]
  },
  {
   "cell_type": "code",
   "execution_count": 132,
   "id": "01812ebd",
   "metadata": {},
   "outputs": [
    {
     "name": "stdout",
     "output_type": "stream",
     "text": [
      "running for N =  20 with 10 processors\n",
      "CPU times: user 1min 17s, sys: 5.23 s, total: 1min 22s\n",
      "Wall time: 1min 17s\n"
     ]
    }
   ],
   "source": [
    "%%time\n",
    "#Set parallelization here\n",
    "nprocs = 10\n",
    "import qutip\n",
    "qutip.settings.num_cpus=nprocs\n",
    "\n",
    "from qutip import Qobj, jmat, Options\n",
    "import numpy as np\n",
    "from tqdm import tqdm\n",
    "from scipy.special import j0, jn_zeros\n",
    "\n",
    "N = 200\n",
    "h0 = np.sqrt(3)/32\n",
    "omega = 90\n",
    "nperiods = 12000\n",
    "freezing_pts = jn_zeros(0, 7)\n",
    "hroots = freezing_pts * omega/4\n",
    "h_frz = hroots[5]\n",
    "\n",
    "not_freezing = 0.5\n",
    "h_nfrz = not_freezing * omega/4\n",
    "\n",
    "print(\"running for N = \", N, \"with\",nprocs,\"processors\")  \n",
    "#Qutip Solver Options\n",
    "opts = Options(nsteps=1e6, num_cpus=nprocs, openmp_threads=1, atol=1e-12, rtol=1e-14)\n",
    "params_frz = {'h0':h0, 'h':h_frz, 'omega':omega, 'N':N, 'opts':opts}\n",
    "obsdata_frz = observables(params_frz, nperiods=nperiods)\n",
    "ipr_frz = get_ipr(params_frz)\n",
    "\n",
    "params_nfrz = {'h0':h0, 'h':h_nfrz, 'omega':omega, 'N':N, 'opts':opts}\n",
    "obsdata_nfrz = observables(params_nfrz, nperiods=nperiods)\n",
    "ipr_nfrz = get_ipr(params_nfrz)\n",
    "\n",
    "omega = 0.8\n",
    "hroots = freezing_pts * omega/4\n",
    "h_lowfrz = hroots[5]\n",
    "params_lowfrz = {'h0':h0, 'h':h_lowfrz, 'omega':omega, 'N':N, 'opts':opts}\n",
    "obsdata_lowfrz = observables(params_lowfrz, nperiods=nperiods)\n",
    "ipr_lowfrz = get_ipr(params_lowfrz)"
   ]
  },
  {
   "cell_type": "code",
   "execution_count": 140,
   "id": "64f731e0",
   "metadata": {},
   "outputs": [
    {
     "name": "stderr",
     "output_type": "stream",
     "text": [
      "/usr/local/anaconda3/anaconda3/envs/hpc/lib/python3.11/site-packages/matplotlib/cbook/__init__.py:1335: ComplexWarning: Casting complex values to real discards the imaginary part\n",
      "  return np.asarray(x, float)\n"
     ]
    },
    {
     "data": {
      "text/plain": [
       "[<matplotlib.lines.Line2D at 0x7f6ce04d4290>]"
      ]
     },
     "execution_count": 140,
     "metadata": {},
     "output_type": "execute_result"
    },
    {
     "data": {
      "image/png": "[encoded data removed]",
      "text/plain": [
       "<Figure size 640x480 with 3 Axes>"
      ]
     },
     "metadata": {},
     "output_type": "display_data"
    }
   ],
   "source": [
    "import matplotlib.pyplot as plt\n",
    "fig, axs = plt.subplots(3, 1)\n",
    "\n",
    "axs[0].plot(ipr_frz,'b')\n",
    "axs[0].plot(ipr_nfrz,'r', alpha=0.5)\n",
    "axs[0].plot(ipr_lowfrz,'g')\n",
    "\n",
    "axs[0].set_ylim(0.0, 1.1)\n",
    "\n",
    "\n",
    "avg_frz = obsdata_frz[\"eavg\"]\n",
    "axs[1].plot(avg_frz,'b')\n",
    "avg_nfrz = obsdata_nfrz[\"eavg\"]\n",
    "axs[1].plot(avg_nfrz,'r', alpha=0.5)\n",
    "avg_lowfrz = obsdata_lowfrz[\"eavg\"]\n",
    "axs[1].plot(avg_lowfrz,'g')\n",
    "\n",
    "\n",
    "sxav_frz = obsdata_frz[\"sxavg\"]\n",
    "axs[2].plot(sxav_frz,'b')\n",
    "sxav_nfrz = obsdata_nfrz[\"sxavg\"]\n",
    "axs[2].plot(sxav_nfrz,'r', alpha=0.5)\n",
    "sxav_lowfrz = obsdata_lowfrz[\"sxavg\"]\n",
    "axs[2].plot(sxav_lowfrz,'g')"
   ]
  },
  {
   "cell_type": "code",
   "execution_count": 18,
   "id": "8fb0b159",
   "metadata": {},
   "outputs": [],
   "source": [
    "import hdfdict\n",
    "import h5py\n",
    "import numpy as np\n",
    "\n",
    "fname = 'frz.h5'\n",
    "f = h5py.File(fname, 'w')\n",
    "hdfdict.dump(obsdata_frz, fname)\n",
    "f.close()\n",
    "fname = 'nfrz.h5'\n",
    "f = h5py.File(fname, 'w')\n",
    "hdfdict.dump(obsdata_nfrz, fname)\n",
    "f.close()"
   ]
  },
  {
   "cell_type": "code",
   "execution_count": null,
   "id": "31e6d8a7",
   "metadata": {},
   "outputs": [],
   "source": []
  }
 ],
 "metadata": {
  "hide_input": false,
  "kernelspec": {
   "display_name": "Python 3 (ipykernel)",
   "language": "python",
   "name": "python3"
  },
  "language_info": {
   "codemirror_mode": {
    "name": "ipython",
    "version": 3
   },
   "file_extension": ".py",
   "mimetype": "text/x-python",
   "name": "python",
   "nbconvert_exporter": "python",
   "pygments_lexer": "ipython3",
   "version": "3.11.0"
  },
  "varInspector": {
   "cols": {
    "lenName": 16,
    "lenType": 16,
    "lenVar": 40
   },
   "kernels_config": {
    "python": {
     "delete_cmd_postfix": "",
     "delete_cmd_prefix": "del ",
     "library": "var_list.py",
     "varRefreshCmd": "print(var_dic_list())"
    },
    "r": {
     "delete_cmd_postfix": ") ",
     "delete_cmd_prefix": "rm(",
     "library": "var_list.r",
     "varRefreshCmd": "cat(var_dic_list()) "
    }
   },
   "types_to_exclude": [
    "module",
    "function",
    "builtin_function_or_method",
    "instance",
    "_Feature"
   ],
   "window_display": false
  }
 },
 "nbformat": 4,
 "nbformat_minor": 5
}
